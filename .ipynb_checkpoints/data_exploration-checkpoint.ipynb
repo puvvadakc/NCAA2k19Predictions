{
 "cells": [
  {
   "cell_type": "code",
   "execution_count": 2,
   "metadata": {},
   "outputs": [],
   "source": [
    "import pandas as pd"
   ]
  },
  {
   "cell_type": "code",
   "execution_count": 7,
   "metadata": {},
   "outputs": [],
   "source": [
    "rankings = pd.read_csv('./prepared_data/scoring_3_10_2015.csv')"
   ]
  },
  {
   "cell_type": "code",
   "execution_count": 10,
   "metadata": {},
   "outputs": [
    {
     "data": {
      "text/html": [
       "<div>\n",
       "<style scoped>\n",
       "    .dataframe tbody tr th:only-of-type {\n",
       "        vertical-align: middle;\n",
       "    }\n",
       "\n",
       "    .dataframe tbody tr th {\n",
       "        vertical-align: top;\n",
       "    }\n",
       "\n",
       "    .dataframe thead th {\n",
       "        text-align: right;\n",
       "    }\n",
       "</style>\n",
       "<table border=\"1\" class=\"dataframe\">\n",
       "  <thead>\n",
       "    <tr style=\"text-align: right;\">\n",
       "      <th></th>\n",
       "      <th>Rank</th>\n",
       "      <th>Name</th>\n",
       "      <th>GM</th>\n",
       "      <th>W-L</th>\n",
       "      <th>PTS</th>\n",
       "      <th>PPG</th>\n",
       "      <th>OPP PTS</th>\n",
       "      <th>OPP PPG</th>\n",
       "      <th>SCR MAR</th>\n",
       "    </tr>\n",
       "  </thead>\n",
       "  <tbody>\n",
       "    <tr>\n",
       "      <th>0</th>\n",
       "      <td>1</td>\n",
       "      <td>Kentucky</td>\n",
       "      <td>31.0</td>\n",
       "      <td>31-0</td>\n",
       "      <td>2314.0</td>\n",
       "      <td>74.6</td>\n",
       "      <td>1656.0</td>\n",
       "      <td>53.4</td>\n",
       "      <td>21.2</td>\n",
       "    </tr>\n",
       "    <tr>\n",
       "      <th>1</th>\n",
       "      <td>2</td>\n",
       "      <td>Gonzaga</td>\n",
       "      <td>34.0</td>\n",
       "      <td>32-2</td>\n",
       "      <td>2690.0</td>\n",
       "      <td>79.1</td>\n",
       "      <td>2071.0</td>\n",
       "      <td>60.9</td>\n",
       "      <td>18.2</td>\n",
       "    </tr>\n",
       "    <tr>\n",
       "      <th>2</th>\n",
       "      <td>3</td>\n",
       "      <td>Arizona</td>\n",
       "      <td>31.0</td>\n",
       "      <td>28-3</td>\n",
       "      <td>2376.0</td>\n",
       "      <td>76.6</td>\n",
       "      <td>1826.0</td>\n",
       "      <td>58.9</td>\n",
       "      <td>17.7</td>\n",
       "    </tr>\n",
       "    <tr>\n",
       "      <th>3</th>\n",
       "      <td>4</td>\n",
       "      <td>Wisconsin</td>\n",
       "      <td>31.0</td>\n",
       "      <td>28-3</td>\n",
       "      <td>2222.0</td>\n",
       "      <td>71.7</td>\n",
       "      <td>1728.0</td>\n",
       "      <td>55.7</td>\n",
       "      <td>15.9</td>\n",
       "    </tr>\n",
       "    <tr>\n",
       "      <th>4</th>\n",
       "      <td>5</td>\n",
       "      <td>Sam Houston St.</td>\n",
       "      <td>31.0</td>\n",
       "      <td>24-7</td>\n",
       "      <td>2295.0</td>\n",
       "      <td>74.0</td>\n",
       "      <td>1809.0</td>\n",
       "      <td>58.4</td>\n",
       "      <td>15.7</td>\n",
       "    </tr>\n",
       "  </tbody>\n",
       "</table>\n",
       "</div>"
      ],
      "text/plain": [
       "  Rank             Name    GM   W-L     PTS   PPG  OPP PTS  OPP PPG  SCR MAR\n",
       "0    1         Kentucky  31.0  31-0  2314.0  74.6   1656.0     53.4     21.2\n",
       "1    2          Gonzaga  34.0  32-2  2690.0  79.1   2071.0     60.9     18.2\n",
       "2    3          Arizona  31.0  28-3  2376.0  76.6   1826.0     58.9     17.7\n",
       "3    4        Wisconsin  31.0  28-3  2222.0  71.7   1728.0     55.7     15.9\n",
       "4    5  Sam Houston St.  31.0  24-7  2295.0  74.0   1809.0     58.4     15.7"
      ]
     },
     "execution_count": 10,
     "metadata": {},
     "output_type": "execute_result"
    }
   ],
   "source": [
    "rankings.head()"
   ]
  }
 ],
 "metadata": {
  "kernelspec": {
   "display_name": "Python 3",
   "language": "python",
   "name": "python3"
  },
  "language_info": {
   "codemirror_mode": {
    "name": "ipython",
    "version": 3
   },
   "file_extension": ".py",
   "mimetype": "text/x-python",
   "name": "python",
   "nbconvert_exporter": "python",
   "pygments_lexer": "ipython3",
   "version": "3.7.1"
  }
 },
 "nbformat": 4,
 "nbformat_minor": 2
}
