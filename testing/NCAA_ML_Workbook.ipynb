{
 "cells": [
  {
   "cell_type": "code",
   "execution_count": 11,
   "metadata": {},
   "outputs": [
    {
     "name": "stdout",
     "output_type": "stream",
     "text": [
      "-3.4320210130067683\n"
     ]
    }
   ],
   "source": [
    "import pandas as pd\n",
    "import numpy as np\n",
    "from sklearn.neural_network import MLPRegressor\n",
    "from sklearn.preprocessing import MinMaxScaler\n",
    "from sklearn.model_selection import train_test_split\n",
    "from sklearn.pipeline import make_pipeline\n",
    "from sklearn.model_selection import GridSearchCV\n",
    "from sklearn.preprocessing import Imputer\n",
    "from sklearn.feature_selection import SelectPercentile\n",
    "from sklearn.feature_selection import VarianceThreshold\n",
    "from sklearn.model_selection import KFold\n",
    "\n",
    "resultsWin = pd.read_csv('data/RegularSeasonDetailedResults.csv')\n",
    "teams = pd.read_csv('data/Teams.csv')\n",
    "\n",
    "# Get only winning teams game stats to predict their score\n",
    "resultsWin = resultsWin.drop(['WTeamID', 'LTeamID', 'WLoc'], axis=1)\n",
    "\n",
    "def neuralNetwork(results) :\n",
    "    train_features, test_features, train_outcome, test_outcome = train_test_split(\n",
    "        results.drop(\"WScore\", axis=1),\n",
    "        results.WScore,\n",
    "        test_size=0.30, \n",
    "        random_state=11\n",
    "    )\n",
    "    scaler = MinMaxScaler()\n",
    "    mlp_reg = MLPRegressor()\n",
    "\n",
    "    imputer = Imputer()\n",
    "    selector = SelectPercentile()\n",
    "    threshold = VarianceThreshold(.1)\n",
    "    pipe = make_pipeline(imputer, threshold, selector, scaler, mlp_reg)\n",
    "\n",
    "    param_grid = {\n",
    "        'selectpercentile__percentile':range(10, 30, 5)\n",
    "        }\n",
    "\n",
    "    crossVal = KFold()\n",
    "    grid = GridSearchCV(pipe, param_grid, cv = crossVal, scoring=\"neg_mean_absolute_error\")\n",
    "    grid.fit(train_features, train_outcome)\n",
    "    grid.score(test_features, test_outcome)\n",
    "\n",
    "    score = grid.score(test_features, test_outcome)\n",
    "\n",
    "    predictedValues = grid.predict(test_features)\n",
    "\n",
    "    return [score, predictedValues, grid, test_outcome]\n",
    "\n",
    "#neural = neuralNetwork(resultsWin)\n",
    "\n",
    "# How many points off were we from predicting the winning score?\n",
    "print(neural[0])\n",
    "\n",
    "# This can be exactly replicated for the other team using LScore for losing score\n",
    "# Then need to randomize which teams get which grid and we run the grid for each playoff game invididually\n",
    "# in their own csv. Take the two scores, see who won, move them manually to the next round."
   ]
  },
  {
   "cell_type": "code",
   "execution_count": null,
   "metadata": {},
   "outputs": [],
   "source": []
  }
 ],
 "metadata": {
  "kernelspec": {
   "display_name": "Python 3",
   "language": "python",
   "name": "python3"
  },
  "language_info": {
   "codemirror_mode": {
    "name": "ipython",
    "version": 3
   },
   "file_extension": ".py",
   "mimetype": "text/x-python",
   "name": "python",
   "nbconvert_exporter": "python",
   "pygments_lexer": "ipython3",
   "version": "3.7.1"
  }
 },
 "nbformat": 4,
 "nbformat_minor": 2
}
